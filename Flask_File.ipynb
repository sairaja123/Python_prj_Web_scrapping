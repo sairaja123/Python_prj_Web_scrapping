{
 "cells": [
  {
   "cell_type": "code",
   "execution_count": 7,
   "id": "5e52ab93",
   "metadata": {},
   "outputs": [],
   "source": [
    "from flask import Flask, render_template\n",
    "import pathlib\n",
    "import sqlite3"
   ]
  },
  {
   "cell_type": "code",
   "execution_count": 8,
   "id": "18cfd939",
   "metadata": {},
   "outputs": [],
   "source": [
    "app = Flask(__name__)"
   ]
  },
  {
   "cell_type": "code",
   "execution_count": 9,
   "id": "63a07ca6",
   "metadata": {},
   "outputs": [],
   "source": [
    "base_path = pathlib.Path().cwd()"
   ]
  },
  {
   "cell_type": "code",
   "execution_count": 10,
   "id": "d1d1630c",
   "metadata": {},
   "outputs": [],
   "source": [
    "db_name = \"Forbes_Traded.db\""
   ]
  },
  {
   "cell_type": "code",
   "execution_count": null,
   "id": "904e505e",
   "metadata": {},
   "outputs": [],
   "source": [
    "file_path= base_path/db_name\n",
    "@app.route(\"/\")\n",
    "def index():\n",
    "    return render_template(\"index.html\")\n",
    "\n",
    "@app.route(\"/about\")\n",
    "def about():\n",
    "    return render_template(\"about.html\")\n",
    "\n",
    "@app.route(\"/services\")\n",
    "def services():\n",
    "    return render_template(\"services.html\")\n",
    "\n",
    "@app.route(\"/data\")\n",
    "def data():\n",
    "    con = sqlite3.connect(file_path)\n",
    "    cursor = con.cursor()\n",
    "    books=cursor.execute(\"SELECT *FROM my_table\").fetchall()\n",
    "    con.close()\n",
    "    return render_template(\"data_table.html\",df=books)\n",
    "\n",
    "if __name__ == '__main__':\n",
    "    app.run(debug=True)\n"
   ]
  },
  {
   "cell_type": "code",
   "execution_count": null,
   "id": "b8c79986",
   "metadata": {},
   "outputs": [],
   "source": []
  }
 ],
 "metadata": {
  "kernelspec": {
   "display_name": "Python 3 (ipykernel)",
   "language": "python",
   "name": "python3"
  },
  "language_info": {
   "codemirror_mode": {
    "name": "ipython",
    "version": 3
   },
   "file_extension": ".py",
   "mimetype": "text/x-python",
   "name": "python",
   "nbconvert_exporter": "python",
   "pygments_lexer": "ipython3",
   "version": "3.9.7"
  }
 },
 "nbformat": 4,
 "nbformat_minor": 5
}
